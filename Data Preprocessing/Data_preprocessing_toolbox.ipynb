{
 "cells": [
  {
   "cell_type": "code",
   "execution_count": 6,
   "metadata": {},
   "outputs": [],
   "source": [
    "import pandas as pd\n",
    "import numpy as np"
   ]
  },
  {
   "cell_type": "code",
   "execution_count": 8,
   "metadata": {},
   "outputs": [],
   "source": [
    "def Category_map( instr ):\n",
    "    mapping = {'BOOKS_AND_REFERENCE':'Book','BUSINESS':'Business','COMICS':'Book','EDUCATION':'Education',\\\n",
    "              'ENTERTAINMENT':'Entertainment','EVENTS':'Entertainment','FINANCE':'Finance',\\\n",
    "               'FOOD_AND_DRINK':'Food & Drink','GAME':'Games','HEALTH_AND_FITNESS':'Health & Fitness',\\\n",
    "              'LIFESTYLE':'Lifestyle','BEAUTY':'Lifestyle','HOUSE_AND_HOME':'Lifestyles','MEDICAL':'Medical',\\\n",
    "              'MAPS_AND_NAVIGATION':'Navigation','NEWS_AND_MAGAZINES':'News','ART_AND_DESIGN':'Photo & Video',\\\n",
    "               'PHOTOGRAPHY':'Photo & Video',\\\n",
    "              'VIDEO_PLAYERS':'Photo & Video','PRODUCTIVITY':'Productivity','SHOPPING':'Shopping',\\\n",
    "              'COMMUNICATION':'Social Networking','DATING':'Social Networking','SOCIAL':'Social Networking',\\\n",
    "              'SPORTS':'Sports','TRAVEL_AND_LOCAL':'Travel','TOOLS':'Utilities','PERSONALIZATION':'Utilities',\\\n",
    "              'WEATHER':'Weather','Reference':'Book'}\n",
    "    if instr in mapping.keys():\n",
    "        outstr = mapping[instr]\n",
    "    else:\n",
    "        outstr = instr\n",
    "    \n",
    "    return outstr\n",
    "\n",
    "def Size_map( instr ):\n",
    "    if isinstance(instr,str):\n",
    "        if instr != 'Varies with device':\n",
    "            if instr[-1] == 'k':\n",
    "                size = float(instr[:-1])/1024\n",
    "            else:\n",
    "                size = float(instr[:-1])\n",
    "        else:\n",
    "            size = 0 \n",
    "    else:\n",
    "        size = instr/1024/1024\n",
    "    return size\n",
    "\n",
    "def Price_map( x ):\n",
    "    if isinstance(x,str):\n",
    "        if x[0] == '$':\n",
    "            p = float(x[1:])\n",
    "        else:\n",
    "            p = float(x)\n",
    "    else:\n",
    "        p = x\n",
    "        \n",
    "    return p\n",
    "        \n"
   ]
  },
  {
   "cell_type": "code",
   "execution_count": null,
   "metadata": {},
   "outputs": [],
   "source": []
  }
 ],
 "metadata": {
  "kernelspec": {
   "display_name": "Python 3",
   "language": "python",
   "name": "python3"
  },
  "language_info": {
   "codemirror_mode": {
    "name": "ipython",
    "version": 3
   },
   "file_extension": ".py",
   "mimetype": "text/x-python",
   "name": "python",
   "nbconvert_exporter": "python",
   "pygments_lexer": "ipython3",
   "version": "3.7.1"
  }
 },
 "nbformat": 4,
 "nbformat_minor": 2
}
