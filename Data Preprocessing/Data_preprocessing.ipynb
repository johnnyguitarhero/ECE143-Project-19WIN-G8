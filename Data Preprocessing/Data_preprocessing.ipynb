{
 "cells": [
  {
   "cell_type": "code",
   "execution_count": 12,
   "metadata": {},
   "outputs": [
    {
     "name": "stdout",
     "output_type": "stream",
     "text": [
      "   Unnamed: 0                                         track_name  size_bytes  \\\n",
      "0           1                                    PAC-MAN Premium   100788224   \n",
      "1           2                          Evernote - stay organized   158578688   \n",
      "2           3    WeatherBug - Local Weather, Radar, Maps, Alerts   100524032   \n",
      "3           4  eBay: Best App to Buy, Sell, Save! Online Shop...   128512000   \n",
      "4           5                                              Bible    92774400   \n",
      "\n",
      "  currency  price  rating_count_tot  rating_count_ver  user_rating  \\\n",
      "0      USD   3.99             21292                26          4.0   \n",
      "1      USD   0.00            161065                26          4.0   \n",
      "2      USD   0.00            188583              2822          3.5   \n",
      "3      USD   0.00            262241               649          4.0   \n",
      "4      USD   0.00            985920              5320          4.5   \n",
      "\n",
      "   user_rating_ver     ver cont_rating   prime_genre  sup_devices.num  \\\n",
      "0              4.5   6.3.5          4+         Games               38   \n",
      "1              3.5   8.2.2          4+  Productivity               37   \n",
      "2              4.5   5.0.0          4+       Weather               37   \n",
      "3              4.5  5.10.0         12+      Shopping               37   \n",
      "4              5.0   7.5.1          4+     Reference               37   \n",
      "\n",
      "   ipadSc_urls.num  lang.num  vpp_lic  \n",
      "0                5        10        1  \n",
      "1                5        23        1  \n",
      "2                5         3        1  \n",
      "3                5         9        1  \n",
      "4                5        45        1  \n",
      "                                                 App        Category  Rating  \\\n",
      "0     Photo Editor & Candy Camera & Grid & ScrapBook  ART_AND_DESIGN     4.1   \n",
      "1                                Coloring book moana  ART_AND_DESIGN     3.9   \n",
      "2  U Launcher Lite – FREE Live Cool Themes, Hide ...  ART_AND_DESIGN     4.7   \n",
      "3                              Sketch - Draw & Paint  ART_AND_DESIGN     4.5   \n",
      "4              Pixel Draw - Number Art Coloring Book  ART_AND_DESIGN     4.3   \n",
      "\n",
      "  Reviews  Size     Installs  Type Price Content Rating  \\\n",
      "0     159   19M      10,000+  Free     0       Everyone   \n",
      "1     967   14M     500,000+  Free     0       Everyone   \n",
      "2   87510  8.7M   5,000,000+  Free     0       Everyone   \n",
      "3  215644   25M  50,000,000+  Free     0           Teen   \n",
      "4     967  2.8M     100,000+  Free     0       Everyone   \n",
      "\n",
      "                      Genres      Last Updated         Current Ver  \\\n",
      "0               Art & Design   January 7, 2018               1.0.0   \n",
      "1  Art & Design;Pretend Play  January 15, 2018               2.0.0   \n",
      "2               Art & Design    August 1, 2018               1.2.4   \n",
      "3               Art & Design      June 8, 2018  Varies with device   \n",
      "4    Art & Design;Creativity     June 20, 2018                 1.1   \n",
      "\n",
      "    Android Ver  \n",
      "0  4.0.3 and up  \n",
      "1  4.0.3 and up  \n",
      "2  4.0.3 and up  \n",
      "3    4.2 and up  \n",
      "4    4.4 and up  \n"
     ]
    }
   ],
   "source": [
    "import pandas as pd\n",
    "import numpy as np\n",
    "%run Data_preprocessing_toolbox.ipynb\n",
    "\n",
    "ap_df = pd.read_csv('AppleStore.csv')\n",
    "gg_df = pd.read_csv('googleplaystore.csv')\n",
    "del ap_df['id']\n",
    "print(ap_df.head())\n",
    "#k = 990\n",
    "#gg_df=gg_df[gg_df['Size'].str.contains(\"M\")]\n",
    "print(gg_df.head())"
   ]
  },
  {
   "cell_type": "markdown",
   "metadata": {},
   "source": [
    "# App Name Processing\n",
    "The cell below renames some apps."
   ]
  },
  {
   "cell_type": "code",
   "execution_count": 13,
   "metadata": {},
   "outputs": [],
   "source": [
    "ap_df.rename(columns={'track_name':'App'},inplace=True)"
   ]
  },
  {
   "cell_type": "markdown",
   "metadata": {},
   "source": [
    "# Category Processing\n",
    "\n",
    "The cell below merges some categories and renames the categories."
   ]
  },
  {
   "cell_type": "code",
   "execution_count": 14,
   "metadata": {},
   "outputs": [],
   "source": [
    "ap_df.rename(columns={'prime_genre':'Category'},inplace=True)\n",
    "gg_df['Category'] = gg_df['Category'].apply(Category_map)\n",
    "ap_df['Category'] = ap_df['Category'].apply(Category_map)\n",
    "boo = (gg_df['Category'] == 'AUTO_AND_VEHICLES') | (gg_df['Category'] == 'LIBRARIES_AND_DEMO') |\\\n",
    "    (gg_df['Category'] == 'FAMILY') | (gg_df['Category'] == 'PARENTING') | (gg_df['Category'] == '1.9')\n",
    "gg_df = gg_df.drop(gg_df[boo].index)"
   ]
  },
  {
   "cell_type": "markdown",
   "metadata": {},
   "source": [
    "# Size Processing\n",
    "The cell below unifies units of size."
   ]
  },
  {
   "cell_type": "code",
   "execution_count": 15,
   "metadata": {},
   "outputs": [],
   "source": [
    "ap_df.rename(columns={'size_bytes':'Size_M'},inplace=True)\n",
    "gg_df.rename(columns={'Size':'Size_M'},inplace=True)\n",
    "gg_df['Size_M'] = gg_df['Size_M'].apply(Size_map)\n",
    "ap_df['Size_M'] = ap_df['Size_M'].apply(Size_map)\n"
   ]
  },
  {
   "cell_type": "markdown",
   "metadata": {},
   "source": [
    "# Rating Processing\n",
    "The cell below renames the column of rating."
   ]
  },
  {
   "cell_type": "code",
   "execution_count": 16,
   "metadata": {},
   "outputs": [],
   "source": [
    "ap_df.rename(columns={'user_rating':'Rating'},inplace=True)"
   ]
  },
  {
   "cell_type": "markdown",
   "metadata": {},
   "source": [
    "# Price Processing\n",
    "The cell below unifies price notation."
   ]
  },
  {
   "cell_type": "code",
   "execution_count": 17,
   "metadata": {},
   "outputs": [],
   "source": [
    "ap_df.rename(columns={'price':'Price'},inplace=True)\n",
    "gg_df['Price'] = gg_df['Price'].apply(Price_map)\n",
    "ap_df['Price'] = ap_df['Price'].apply(Price_map)"
   ]
  },
  {
   "cell_type": "code",
   "execution_count": 18,
   "metadata": {},
   "outputs": [],
   "source": [
    "gg_clean = gg_df[['App','Category','Size_M','Price','Rating']]\n",
    "ap_clean = ap_df[['App','Category','Size_M','Price','Rating']]\n",
    "gg_df.to_csv(r'myGooglePlay.csv')\n",
    "ap_df.to_csv(r'myAppleStore.csv')\n",
    "gg_clean.to_csv(r'myGooglePlay_clean.csv')\n",
    "ap_clean.to_csv(r'myAppleStore_clean.csv')"
   ]
  },
  {
   "cell_type": "code",
   "execution_count": null,
   "metadata": {},
   "outputs": [],
   "source": []
  }
 ],
 "metadata": {
  "kernelspec": {
   "display_name": "Python 3",
   "language": "python",
   "name": "python3"
  },
  "language_info": {
   "codemirror_mode": {
    "name": "ipython",
    "version": 3
   },
   "file_extension": ".py",
   "mimetype": "text/x-python",
   "name": "python",
   "nbconvert_exporter": "python",
   "pygments_lexer": "ipython3",
   "version": "3.7.1"
  }
 },
 "nbformat": 4,
 "nbformat_minor": 2
}
