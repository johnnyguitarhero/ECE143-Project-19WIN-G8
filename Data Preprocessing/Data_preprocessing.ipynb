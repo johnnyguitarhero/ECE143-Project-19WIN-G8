{
 "cells": [
  {
   "cell_type": "code",
   "execution_count": 339,
   "metadata": {},
   "outputs": [],
   "source": [
    "import pandas as pd\n",
    "import numpy as np\n",
    "%run Data_preprocessing_toolbox.ipynb\n",
    "\n",
    "ap_df = pd.read_csv('AppleStore.csv')\n",
    "gg_df = pd.read_csv('googleplaystore.csv')\n",
    "it_df = pd.read_csv('itunes_scraper.csv')\n",
    "it_df.drop(['web-scraper-order','name','web-scraper-start-url','app-href','tagline','cateogry-href'], axis=1, inplace=True)\n",
    "it_df.dropna(inplace=True)\n",
    "#print(ap_df.head())\n",
    "#k = 990\n",
    "#gg_df=gg_df[gg_df['Size'].str.contains(\"M\")]\n",
    "#print(gg_df.head())\n"
   ]
  },
  {
   "cell_type": "markdown",
   "metadata": {},
   "source": [
    "# App Name Processing\n",
    "The cell below renames some apps."
   ]
  },
  {
   "cell_type": "code",
   "execution_count": 340,
   "metadata": {},
   "outputs": [],
   "source": [
    "ap_df.rename(columns={'track_name':'App'},inplace=True)\n",
    "it_df.rename(columns={'app':'App'},inplace=True)\n",
    "gg_df.drop_duplicates(subset=['App'], keep='first', inplace=True)"
   ]
  },
  {
   "cell_type": "markdown",
   "metadata": {},
   "source": [
    "# Category Processing\n",
    "\n",
    "The cell below merges some categories and renames the categories."
   ]
  },
  {
   "cell_type": "code",
   "execution_count": 341,
   "metadata": {},
   "outputs": [],
   "source": [
    "ap_df.rename(columns={'prime_genre':'Category'},inplace=True)\n",
    "it_df.rename(columns={'cateogry':'Category'},inplace=True)\n",
    "gg_df['Category'] = gg_df['Category'].apply(Category_map)\n",
    "ap_df['Category'] = ap_df['Category'].apply(Category_map)\n",
    "#it_df.dropna(subset=['Category'])\n",
    "boo = (gg_df['Category'] == 'AUTO_AND_VEHICLES') | (gg_df['Category'] == 'LIBRARIES_AND_DEMO') |\\\n",
    "    (gg_df['Category'] == 'FAMILY') | (gg_df['Category'] == 'PARENTING') | (gg_df['Category'] == '1.9')\n",
    "gg_df = gg_df.drop(gg_df[boo].index)"
   ]
  },
  {
   "cell_type": "markdown",
   "metadata": {},
   "source": [
    "# Size Processing\n",
    "The cell below unifies units of size."
   ]
  },
  {
   "cell_type": "code",
   "execution_count": 342,
   "metadata": {},
   "outputs": [],
   "source": [
    "ap_df.rename(columns={'size_bytes':'Size_M'},inplace=True)\n",
    "gg_df.rename(columns={'Size':'Size_M'},inplace=True)\n",
    "it_df.rename(columns={'size':'Size_M'},inplace=True)\n",
    "#it_df.dropna(subset=['Size_M'])\n",
    "gg_df['Size_M'] = gg_df['Size_M'].apply(Size_map)\n",
    "ap_df['Size_M'] = ap_df['Size_M'].apply(Size_map)\n",
    "it_df['Size_M'] = it_df['Size_M'].apply(Size_map)"
   ]
  },
  {
   "cell_type": "markdown",
   "metadata": {},
   "source": [
    "# Rating Processing\n",
    "The cell below renames the column of rating."
   ]
  },
  {
   "cell_type": "code",
   "execution_count": 343,
   "metadata": {},
   "outputs": [],
   "source": [
    "ap_df.rename(columns={'user_rating':'Rating'},inplace=True)\n",
    "it_df.rename(columns={'rating':'Rating'},inplace=True)\n",
    "#it_df.dropna(subset=['Rating'])\n",
    "it_df['Rating_num'] = it_df['Rating'].apply(Rating_num)\n",
    "it_df['Rating'] = it_df['Rating'].apply(Rating_map)\n",
    "it_df = it_df[it_df['Rating_num']>3000]\n",
    "gg_df.dropna(inplace=True)\n",
    "# Below are used for choosing popular apps in Google Play\n",
    "gg_df['Reviews'] = gg_df['Reviews'].apply(int)\n",
    "gg_df = gg_df[gg_df['Reviews']>3000]\n"
   ]
  },
  {
   "cell_type": "markdown",
   "metadata": {},
   "source": [
    "# Price Processing\n",
    "The cell below unifies price notation."
   ]
  },
  {
   "cell_type": "code",
   "execution_count": 344,
   "metadata": {},
   "outputs": [],
   "source": [
    "ap_df.rename(columns={'price':'Price'},inplace=True)\n",
    "it_df.rename(columns={'pricing':'Price'},inplace=True)\n",
    "gg_df['Price'] = gg_df['Price'].apply(Price_map)\n",
    "ap_df['Price'] = ap_df['Price'].apply(Price_map)\n",
    "it_df['Price'] = it_df['Price'].apply(Price_map)"
   ]
  },
  {
   "cell_type": "code",
   "execution_count": 345,
   "metadata": {},
   "outputs": [],
   "source": [
    "gg_clean = gg_df[['App','Category','Size_M','Price','Rating']]\n",
    "ap_clean = ap_df[['App','Category','Size_M','Price','Rating']]\n",
    "it_clean = it_df[['App','Category','Size_M','Price','Rating']]\n",
    "gg_df.to_csv(r'myGooglePlay.csv')\n",
    "ap_df.to_csv(r'myAppleStore.csv')\n",
    "it_df.to_csv(r'myAppleStore_new.csv')\n",
    "gg_clean.to_csv(r'myGooglePlay_clean.csv')\n",
    "ap_clean.to_csv(r'myAppleStore_clean.csv')\n",
    "it_clean.to_csv(r'myAppleStore_new_clean.csv')"
   ]
  },
  {
   "cell_type": "code",
   "execution_count": null,
   "metadata": {},
   "outputs": [],
   "source": []
  }
 ],
 "metadata": {
  "kernelspec": {
   "display_name": "Python 3",
   "language": "python",
   "name": "python3"
  },
  "language_info": {
   "codemirror_mode": {
    "name": "ipython",
    "version": 3
   },
   "file_extension": ".py",
   "mimetype": "text/x-python",
   "name": "python",
   "nbconvert_exporter": "python",
   "pygments_lexer": "ipython3",
   "version": "3.7.1"
  }
 },
 "nbformat": 4,
 "nbformat_minor": 2
}
